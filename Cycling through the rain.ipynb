{
 "cells": [
  {
   "cell_type": "code",
   "execution_count": 1,
   "metadata": {},
   "outputs": [],
   "source": [
    "import numpy as np\n",
    "import pandas as pd\n",
    "import requests\n",
    "import re\n",
    "from math import radians, cos, sin, asin, sqrt"
   ]
  },
  {
   "cell_type": "code",
   "execution_count": 2,
   "metadata": {},
   "outputs": [],
   "source": [
    "pd.options.display.max_columns = 150"
   ]
  },
  {
   "cell_type": "markdown",
   "metadata": {},
   "source": [
    "### Cycling through the rain\n",
    "\n",
    "In this notebook I'm exploring the weather during my daily commute by bike from Haarlem to Hoofddorp-Zuid and how often it rains during my commuting time. In this notebook I use the KNMI data (Royal Dutch Meteorological Institute or Dutch Met Office), extracted from the API. I will be leaving my house at 8 o'clock in the AM and returning on 5 o'clock in the PM.\n",
    "\n",
    "First, let's find out what our closest weather station is for both our home and work locations!"
   ]
  },
  {
   "cell_type": "code",
   "execution_count": 3,
   "metadata": {},
   "outputs": [],
   "source": [
    "# set parameters and KNMI API url\n",
    "knmi_api_url = 'http://projects.knmi.nl/klimatologie/uurgegevens/getdata_uur.cgi'\n",
    "\n",
    "# download only data from hour 9 (8:00 - 9:00 AM) to hour 18 (5:00 - 6:00 PM)\n",
    "params = {'start': '2018010109', 'end: '', stns': 'ALL'}"
   ]
  },
  {
   "cell_type": "code",
   "execution_count": 4,
   "metadata": {},
   "outputs": [],
   "source": [
    "# define last day of the last passed month and define a fixed end date\n",
    "last_day_of_last_month = pd.Timestamp.now() - pd.Timedelta(days = int(pd.Timestamp.now().strftime('%d')) + 1)\n",
    "last_day_of_last_month = last_day_of_last_month.strftime('%Y%m%d')\n",
    "params['end'] = last_day_of_last_month + '18'"
   ]
  },
  {
   "cell_type": "code",
   "execution_count": 5,
   "metadata": {},
   "outputs": [],
   "source": [
    "# extract data from API\n",
    "knmi_response = requests.get(knmi_api_url, params = params)\n",
    "\n",
    "# extract text from API response\n",
    "knmi_response = knmi_response.text\n",
    "\n",
    "# split API response on line breaks\n",
    "knmi_response = knmi_response.split('\\r\\n')"
   ]
  },
  {
   "cell_type": "code",
   "execution_count": 6,
   "metadata": {},
   "outputs": [
    {
     "data": {
      "text/plain": [
       "['# BRON: KONINKLIJK NEDERLANDS METEOROLOGISCH INSTITUUT (KNMI)',\n",
       " '# Opmerking: door stationsverplaatsingen en veranderingen in waarneemmethodieken zijn deze tijdreeksen van uurwaarden mogelijk inhomogeen! Dat betekent dat deze reeks van gemeten waarden niet geschikt is voor trendanalyse. Voor studies naar klimaatverandering verwijzen we naar de gehomogeniseerde reeks maandtemperaturen van De Bilt <http://www.knmi.nl/klimatologie/onderzoeksgegevens/homogeen_260/index.html> of de Centraal Nederland Temperatuur <http://www.knmi.nl/klimatologie/onderzoeksgegevens/CNT/>.',\n",
       " '# ',\n",
       " '# ',\n",
       " '# STN      LON(east)   LAT(north)     ALT(m)  NAME',\n",
       " '# 391:         6.197       51.498      19.50  ARCEN',\n",
       " '# 370:         5.377       51.451      22.60  EINDHOVEN',\n",
       " '# 331:         4.193       51.480       0.00  THOLEN',\n",
       " '# 315:         3.998       51.447       0.00  HANSWEERT',\n",
       " '# 324:         4.006       51.596       0.00  STAVENISSE',\n",
       " '# 375:         5.707       51.659      22.00  VOLKEL',\n",
       " '# 380:         5.762       50.906     114.30  MAASTRICHT',\n",
       " '# 240:         4.790       52.318      -3.30  SCHIPHOL',\n",
       " '# 286:         7.150       53.196      -0.20  NIEUW BEERTA',\n",
       " '# 310:         3.596       51.442       8.00  VLISSINGEN',\n",
       " '# 283:         6.657       52.069      29.10  HUPSEL',\n",
       " '# 280:         6.585       53.125       5.20  EELDE',\n",
       " '# 273:         5.888       52.703      -3.30  MARKNESSE',\n",
       " '# 323:         3.884       51.527       1.40  WILHELMINADORP',\n",
       " '# 249:         4.979       52.644      -2.40  BERKHOUT',\n",
       " '# 377:         5.763       51.198      30.00  ELL',\n",
       " '# 316:         3.694       51.657       0.00  SCHAAR',\n",
       " '# 313:         3.242       51.505       0.00  VLAKTE V.D. RAAN',\n",
       " '# 277:         6.200       53.413       2.90  LAUWERSOOG',\n",
       " '# 348:         4.926       51.970      -0.70  CABAUW',\n",
       " '# 308:         3.379       51.381       0.00  CADZAND',\n",
       " '# 319:         3.861       51.226       1.70  WESTDORPE',\n",
       " '# 215:         4.437       52.141      -1.10  VOORSCHOTEN',\n",
       " '# 278:         6.259       52.435       3.60  HEINO',\n",
       " '# 285:         6.399       53.575       0.00  HUIBERTGAT',\n",
       " \"# 343:         4.313       51.893       3.50  R'DAM-GEULHAVEN\",\n",
       " '# 225:         4.555       52.463       4.40  IJMUIDEN',\n",
       " '# 330:         4.122       51.992      11.90  HOEK VAN HOLLAND',\n",
       " '# 267:         5.384       52.898      -1.30  STAVOREN',\n",
       " '# 269:         5.520       52.458      -3.70  LELYSTAD',\n",
       " '# 344:         4.447       51.962      -4.30  ROTTERDAM',\n",
       " '# 275:         5.873       52.056      48.20  DEELEN',\n",
       " '# 235:         4.781       52.928       1.20  DE KOOY',\n",
       " '# 257:         4.603       52.506       8.50  WIJK AAN ZEE',\n",
       " '# 290:         6.891       52.274      34.80  TWENTHE',\n",
       " '# 350:         4.936       51.566      14.90  GILZE-RIJEN',\n",
       " '# 251:         5.346       53.392       0.70  HOORN (TERSCHELLING)',\n",
       " '# 210:         4.430       52.171      -0.20  VALKENBURG',\n",
       " '# 248:         5.174       52.634       0.80  WIJDENES',\n",
       " '# 279:         6.574       52.750      15.80  HOOGEVEEN',\n",
       " '# 258:         5.401       52.649       7.30  HOUTRIBDIJK',\n",
       " '# 356:         5.146       51.859       0.70  HERWIJNEN',\n",
       " '# 209:         4.518       52.465       0.00  IJMOND',\n",
       " '# 265:         5.274       52.130      13.90  SOESTERBERG',\n",
       " '# 312:         3.622       51.768       0.00  OOSTERSCHELDE',\n",
       " '# 340:         4.342       51.449      19.20  WOENSDRECHT',\n",
       " '# 260:         5.180       52.100       1.90  DE BILT',\n",
       " '# 270:         5.752       53.224       1.20  LEEUWARDEN',\n",
       " '# 311:         3.672       51.379       0.00  HOOFDPLAAT',\n",
       " '# 242:         4.921       53.241      10.80  VLIELAND',\n",
       " '# ',\n",
       " '# YYYYMMDD = datum (YYYY=jaar,MM=maand,DD=dag); ',\n",
       " '# HH       = tijd (HH=uur, UT.12 UT=13 MET, 14 MEZT. Uurvak 05 loopt van 04.00 UT tot 5.00 UT; ',\n",
       " '# DD       = Windrichting (in graden) gemiddeld over de laatste 10 minuten van het afgelopen uur (360=noord, 90=oost, 180=zuid, 270=west, 0=windstil 990=veranderlijk. Zie http://www.knmi.nl/kennis-en-datacentrum/achtergrond/klimatologische-brochures-en-boeken; ',\n",
       " '# FH       = Uurgemiddelde windsnelheid (in 0.1 m/s). Zie http://www.knmi.nl/kennis-en-datacentrum/achtergrond/klimatologische-brochures-en-boeken; ',\n",
       " '# FF       = Windsnelheid (in 0.1 m/s) gemiddeld over de laatste 10 minuten van het afgelopen uur; ',\n",
       " '# FX       = Hoogste windstoot (in 0.1 m/s) over het afgelopen uurvak; ',\n",
       " '# T        = Temperatuur (in 0.1 graden Celsius) op 1.50 m hoogte tijdens de waarneming; ',\n",
       " '# T10N     = Minimumtemperatuur (in 0.1 graden Celsius) op 10 cm hoogte in de afgelopen 6 uur; ',\n",
       " '# TD       = Dauwpuntstemperatuur (in 0.1 graden Celsius) op 1.50 m hoogte tijdens de waarneming; ',\n",
       " '# SQ       = Duur van de zonneschijn (in 0.1 uren) per uurvak, berekend uit globale straling  (-1 for <0.05 uur); ',\n",
       " '# Q        = Globale straling (in J/cm2) per uurvak; ',\n",
       " '# DR       = Duur van de neerslag (in 0.1 uur) per uurvak; ',\n",
       " '# RH       = Uursom van de neerslag (in 0.1 mm) (-1 voor <0.05 mm); ',\n",
       " '# P        = Luchtdruk (in 0.1 hPa) herleid naar zeeniveau, tijdens de waarneming; ',\n",
       " '# VV       = Horizontaal zicht tijdens de waarneming (0=minder dan 100m, 1=100-200m, 2=200-300m,..., 49=4900-5000m, 50=5-6km, 56=6-7km, 57=7-8km, ..., 79=29-30km, 80=30-35km, 81=35-40km,..., 89=meer dan 70km); ',\n",
       " '# N        = Bewolking (bedekkingsgraad van de bovenlucht in achtsten), tijdens de waarneming (9=bovenlucht onzichtbaar); ',\n",
       " '# U        = Relatieve vochtigheid (in procenten) op 1.50 m hoogte tijdens de waarneming; ',\n",
       " '# WW       = Weercode (00-99), visueel(WW) of automatisch(WaWa) waargenomen, voor het actuele weer of het weer in het afgelopen uur. Zie http://bibliotheek.knmi.nl/scholierenpdf/weercodes_Nederland; ',\n",
       " '# IX       = Weercode indicator voor de wijze van waarnemen op een bemand of automatisch station (1=bemand gebruikmakend van code uit visuele waarnemingen, 2,3=bemand en weggelaten (geen belangrijk weersverschijnsel, geen gegevens), 4=automatisch en opgenomen (gebruikmakend van code uit visuele waarnemingen), 5,6=automatisch en weggelaten (geen belangrijk weersverschijnsel, geen gegevens), 7=automatisch gebruikmakend van code uit automatische waarnemingen); ',\n",
       " '# M        = Mist 0=niet voorgekomen, 1=wel voorgekomen in het voorgaande uur en/of tijdens de waarneming; ',\n",
       " '# R        = Regen 0=niet voorgekomen, 1=wel voorgekomen in het voorgaande uur en/of tijdens de waarneming; ',\n",
       " '# S        = Sneeuw 0=niet voorgekomen, 1=wel voorgekomen in het voorgaande uur en/of tijdens de waarneming; ',\n",
       " '# O        = Onweer 0=niet voorgekomen, 1=wel voorgekomen in het voorgaande uur en/of tijdens de waarneming; ',\n",
       " '# Y        = IJsvorming 0=niet voorgekomen, 1=wel voorgekomen in het voorgaande uur en/of tijdens de waarneming; ',\n",
       " '# ',\n",
       " '# STN,YYYYMMDD,   HH,   DD,   FH,   FF,   FX,    T, T10N,   TD,   SQ,    Q,   DR,   RH,    P,   VV,    N,    U,   WW,   IX,    M,    R,    S,    O,    Y',\n",
       " '# ',\n",
       " '  391,20180101,    9,  220,   70,   60,  120,   65,     ,   30,    2,   11,    0,    0,     ,     ,     ,   78,     ,    6,     ,     ,     ,     ,     ',\n",
       " '  391,20180101,   10,  220,   70,   70,  140,   69,     ,   38,    7,   43,    0,    0,     ,     ,     ,   80,     ,    6,     ,     ,     ,     ,     ',\n",
       " '  391,20180101,   11,  220,   80,   80,  130,   77,     ,   36,    8,   74,    0,    0,     ,     ,     ,   75,     ,    6,     ,     ,     ,     ,     ',\n",
       " '  391,20180101,   12,  220,   70,   50,  130,   82,   50,   35,    7,   67,    0,    0,     ,     ,     ,   72,     ,    6,     ,     ,     ,     ,     ',\n",
       " '  391,20180101,   13,  200,   50,   60,   90,   84,     ,   38,    0,   27,    0,    0,     ,     ,     ,   73,     ,    6,     ,     ,     ,     ,     ',\n",
       " '  391,20180101,   14,  180,   50,   50,  100,   80,     ,   36,    0,    9,    0,    0,     ,     ,     ,   73,     ,    6,     ,     ,     ,     ,     ',\n",
       " '  391,20180101,   15,  150,   30,   30,   80,   73,     ,   42,    0,    4,    1,    1,     ,     ,     ,   80,     ,    6,     ,     ,     ,     ,     ',\n",
       " '  391,20180101,   16,  160,   30,   40,   70,   66,     ,   49,    0,    0,    8,    5,     ,     ,     ,   88,     ,    6,     ,     ,     ,     ,     ',\n",
       " '  391,20180101,   17,  110,   20,   30,   60,   62,     ,   53,    0,    0,   10,   16,     ,     ,     ,   94,     ,    6,     ,     ,     ,     ,     ',\n",
       " '  391,20180101,   18,  110,   30,   20,   50,   58,   57,   50,    0,    0,   10,    5,     ,     ,     ,   94,     ,    6,     ,     ,     ,     ,     ',\n",
       " '  391,20180102,    9,  260,   50,   40,   90,   59,     ,   35,    0,    8,    0,    0,     ,     ,     ,   84,     ,    6,     ,     ,     ,     ,     ',\n",
       " '  391,20180102,   10,  230,   40,   40,   60,   61,     ,   43,    0,   19,    0,    0,     ,     ,     ,   88,     ,    6,     ,     ,     ,     ,     ',\n",
       " '  391,20180102,   11,  240,   40,   40,   70,   65,     ,   42,    0,   28,    0,    0,     ,     ,     ,   85,     ,    6,     ,     ,     ,     ,     ',\n",
       " '  391,20180102,   12,  240,   50,   40,   80,   67,   54,   43,    0,   19,    0,    0,     ,     ,     ,   84,     ,    6,     ,     ,     ,     ,     ',\n",
       " '  391,20180102,   13,  220,   40,   30,   70,   70,     ,   43,    0,   36,    0,    0,     ,     ,     ,   82,     ,    6,     ,     ,     ,     ,     ',\n",
       " '  391,20180102,   14,  220,   40,   50,   70,   67,     ,   38,    0,   24,    0,    0,     ,     ,     ,   81,     ,    6,     ,     ,     ,     ,     ',\n",
       " '  391,20180102,   15,  210,   40,   40,   80,   64,     ,   33,    3,   11,    0,    0,     ,     ,     ,   80,     ,    6,     ,     ,     ,     ,     ']"
      ]
     },
     "execution_count": 6,
     "metadata": {},
     "output_type": "execute_result"
    }
   ],
   "source": [
    "knmi_response[:100]"
   ]
  },
  {
   "cell_type": "code",
   "execution_count": 7,
   "metadata": {},
   "outputs": [],
   "source": [
    "# extract station id, longitude, latitude and station city name\n",
    "knmi_stations_cleaned = []\n",
    "\n",
    "for line in knmi_response:\n",
    "    if re.match('^.\\s\\d{3}\\:\\s+', line) is not None:\n",
    "        station = re.sub('(#\\s|:)', '', line)\n",
    "        knmi_stations_cleaned.append(re.split('\\s{2,}', station))"
   ]
  },
  {
   "cell_type": "code",
   "execution_count": 8,
   "metadata": {},
   "outputs": [
    {
     "data": {
      "text/plain": [
       "[['391', '6.197', '51.498', '19.50', 'ARCEN'],\n",
       " ['370', '5.377', '51.451', '22.60', 'EINDHOVEN'],\n",
       " ['331', '4.193', '51.480', '0.00', 'THOLEN'],\n",
       " ['315', '3.998', '51.447', '0.00', 'HANSWEERT'],\n",
       " ['324', '4.006', '51.596', '0.00', 'STAVENISSE']]"
      ]
     },
     "execution_count": 8,
     "metadata": {},
     "output_type": "execute_result"
    }
   ],
   "source": [
    "# check results\n",
    "knmi_stations_cleaned[:5]"
   ]
  },
  {
   "cell_type": "code",
   "execution_count": 9,
   "metadata": {},
   "outputs": [],
   "source": [
    "# define home and work locations with longitudes and latitudes\n",
    "home_long = 52.377797984842694\n",
    "home_lat = 4.656652974122819\n",
    "work_long = 52.2882321\n",
    "work_lat = 4.6794414"
   ]
  },
  {
   "cell_type": "code",
   "execution_count": 10,
   "metadata": {},
   "outputs": [],
   "source": [
    "def distance(lat1, lon1, lat2, lon2): \n",
    "    \"\"\"This function returns the distance (as the crow flies) in kilometers from GPS coordinates\"\"\" \n",
    "    lon1 = radians(lon1) \n",
    "    lon2 = radians(lon2) \n",
    "    lat1 = radians(lat1) \n",
    "    lat2 = radians(lat2) \n",
    "       \n",
    "    # Haversine formula  \n",
    "    dlon = lon2 - lon1  \n",
    "    dlat = lat2 - lat1 \n",
    "    a = sin(dlat / 2)**2 + cos(lat1) * cos(lat2) * sin(dlon / 2)**2\n",
    "  \n",
    "    c = 2 * asin(sqrt(a))  \n",
    "     \n",
    "    # Radius of earth in kilometers. Use 3956 for miles \n",
    "    r = 6371\n",
    "       \n",
    "    # calculate the result \n",
    "    return(c * r)"
   ]
  },
  {
   "cell_type": "code",
   "execution_count": 11,
   "metadata": {},
   "outputs": [],
   "source": [
    "# calculate distance between home/work location and all weather stations and append station when distance is smaller\n",
    "closest_station_to_home = 1000\n",
    "closest_station_to_work = 1000\n",
    "closest_station_to_home_list = []\n",
    "closest_station_to_work_list = []\n",
    "\n",
    "for station in knmi_stations_cleaned:\n",
    "    station_long = float(station[2])\n",
    "    station_lat = float(station[1])\n",
    "    distance_home_station = distance(station_long, station_lat, home_long, home_lat)\n",
    "    distance_work_station = distance(station_long, station_lat, work_long, work_lat)\n",
    "    if closest_station_to_home > distance_home_station:\n",
    "        closest_station_to_home = distance_home_station\n",
    "        closest_station_to_home_list.append(station)\n",
    "    if closest_station_to_work > distance_work_station:\n",
    "        closest_station_to_work = distance_work_station\n",
    "        closest_station_to_work_list.append(station)"
   ]
  },
  {
   "cell_type": "code",
   "execution_count": 12,
   "metadata": {},
   "outputs": [
    {
     "name": "stdout",
     "output_type": "stream",
     "text": [
      "True\n",
      "['240', '4.790', '52.318', '-3.30', 'SCHIPHOL']\n"
     ]
    }
   ],
   "source": [
    "# check if the location from the closest weather station to my home is equal to the closest weather station to work\n",
    "print(closest_station_to_home_list[-1] == closest_station_to_work_list[-1])\n",
    "\n",
    "# print closest weather station\n",
    "print(closest_station_to_home_list[-1])"
   ]
  },
  {
   "cell_type": "code",
   "execution_count": 13,
   "metadata": {},
   "outputs": [],
   "source": [
    "# extract weather data\n",
    "knmi_weather_data = []\n",
    "\n",
    "for line in knmi_response:\n",
    "    if re.match('^\\s+[0-9]{3},20[0-9]{6}.*', line):\n",
    "        cleaned_line = re.sub('\\s+', '', line)\n",
    "        knmi_weather_data.append(cleaned_line.split(','))"
   ]
  },
  {
   "cell_type": "code",
   "execution_count": 14,
   "metadata": {},
   "outputs": [
    {
     "data": {
      "text/plain": [
       "[['391',\n",
       "  '20180101',\n",
       "  '9',\n",
       "  '220',\n",
       "  '70',\n",
       "  '60',\n",
       "  '120',\n",
       "  '65',\n",
       "  '',\n",
       "  '30',\n",
       "  '2',\n",
       "  '11',\n",
       "  '0',\n",
       "  '0',\n",
       "  '',\n",
       "  '',\n",
       "  '',\n",
       "  '78',\n",
       "  '',\n",
       "  '6',\n",
       "  '',\n",
       "  '',\n",
       "  '',\n",
       "  '',\n",
       "  ''],\n",
       " ['391',\n",
       "  '20180101',\n",
       "  '10',\n",
       "  '220',\n",
       "  '70',\n",
       "  '70',\n",
       "  '140',\n",
       "  '69',\n",
       "  '',\n",
       "  '38',\n",
       "  '7',\n",
       "  '43',\n",
       "  '0',\n",
       "  '0',\n",
       "  '',\n",
       "  '',\n",
       "  '',\n",
       "  '80',\n",
       "  '',\n",
       "  '6',\n",
       "  '',\n",
       "  '',\n",
       "  '',\n",
       "  '',\n",
       "  ''],\n",
       " ['391',\n",
       "  '20180101',\n",
       "  '11',\n",
       "  '220',\n",
       "  '80',\n",
       "  '80',\n",
       "  '130',\n",
       "  '77',\n",
       "  '',\n",
       "  '36',\n",
       "  '8',\n",
       "  '74',\n",
       "  '0',\n",
       "  '0',\n",
       "  '',\n",
       "  '',\n",
       "  '',\n",
       "  '75',\n",
       "  '',\n",
       "  '6',\n",
       "  '',\n",
       "  '',\n",
       "  '',\n",
       "  '',\n",
       "  '']]"
      ]
     },
     "execution_count": 14,
     "metadata": {},
     "output_type": "execute_result"
    }
   ],
   "source": [
    "knmi_weather_data[:3]"
   ]
  },
  {
   "cell_type": "markdown",
   "metadata": {},
   "source": [
    "#### Putting data in pandas dataframe and cleaning"
   ]
  },
  {
   "cell_type": "code",
   "execution_count": 15,
   "metadata": {},
   "outputs": [],
   "source": [
    "# define cols, extracted from original KNMI API response\n",
    "cols = 'STN,YYYYMMDD,   HH,   DD,   FH,   FF,   FX,    T, T10N,   TD,   SQ,    Q,   DR,   RH,    P,   VV,    N,    U,   WW,   IX,    M,    R,    S,    O,    Y'\n",
    "cols = [re.sub('\\s+', '', x) for x in cols.split(',')]\n",
    "\n",
    "# put data in dataframe\n",
    "df_knmi = pd.DataFrame(knmi_weather_data, columns = cols)\n",
    "\n",
    "# change empty values to NaN values\n",
    "df_knmi.replace('', np.nan, inplace = True)\n",
    "\n",
    "# drop unnecessary columns\n",
    "df_knmi = df_knmi[['STN','YYYYMMDD','HH', 'DR', 'RH']].copy()\n",
    "\n",
    "# rename column names for better understanding of columns\n",
    "df_knmi.rename({'STN':'station_id','YYYYMMDD':'date', 'HH': 'hour', 'DR': 'percipation_duration', 'RH': 'percipation_amount'}, inplace=True, axis=1)\n",
    "\n",
    "# remove all data but data from the closest KNMI weather station (Schiphol)\n",
    "df_knmi = df_knmi[df_knmi['station_id'] == closest_station_to_home_list[-1][0]].copy()\n",
    "\n",
    "# date column to pandas datetime\n",
    "df_knmi['date'] = df_knmi['date'].apply(lambda x: pd.to_datetime(x))\n",
    "\n",
    "# remove weekend days\n",
    "df_knmi = df_knmi[df_knmi['date'].dt.dayofweek < 5].copy()\n",
    "\n",
    "# calculate quarter\n",
    "df_knmi['quarter'] = df_knmi['date'].dt.quarter\n",
    "\n",
    "#convert percipation amount to integers\n",
    "df_knmi.loc[:, 'percipation_duration':] = df_knmi.loc[:, 'percipation_duration':].astype(int)\n",
    "\n",
    "# remove negative values from percipation amount column\n",
    "df_knmi['percipation_amount'].replace(-1, 0, inplace = True)\n",
    "\n",
    "# set hour values to more intuitive values (counting from zero instead of one)\n",
    "df_knmi['hour'] = df_knmi['hour'].astype(int) - 1\n",
    "\n",
    "# remove unused hours\n",
    "df_knmi = df_knmi[df_knmi['hour'].isin([8, 17])].copy()"
   ]
  },
  {
   "cell_type": "code",
   "execution_count": 16,
   "metadata": {},
   "outputs": [],
   "source": [
    "def f(num):\n",
    "    \"\"\"\"Takes in integer and returns factorial (e.g. 5! or 5*4*3*2*1) for this integer. Used only for improved readibility of code\"\"\"\n",
    "    return np.math.factorial(num)"
   ]
  },
  {
   "cell_type": "code",
   "execution_count": 17,
   "metadata": {},
   "outputs": [],
   "source": [
    "def nCr(n, r):\n",
    "    \"\"\"\" Calculates possible combinations that can be obtained by taking a sample of items from a larger set. \n",
    "    The order of the items chosen in the subset does not matter.\"\"\"\n",
    "    return f(n) / (f(r) * f(n - r))"
   ]
  },
  {
   "cell_type": "code",
   "execution_count": 18,
   "metadata": {},
   "outputs": [],
   "source": [
    "def getting_wet(rain_intervals, intervals = 10, cycling_intervals = 7):\n",
    "    \"\"\"Takes in six minute rain intervals per hour and cycling times in six minute intervals and\n",
    "    returns a chance of rain during the commute.\"\"\"\n",
    "    try:\n",
    "        # calculate dry intervals\n",
    "        dry_intervals = intervals - rain_intervals\n",
    "        \n",
    "        # calculate possible outcomes\n",
    "        possible_outcomes = nCr(intervals, cycling_intervals)\n",
    "        \n",
    "        # calculate chance of staying dry\n",
    "        dry = nCr(dry_intervals, cycling_intervals)\n",
    "        \n",
    "        # calculate the chance of not getting rain\n",
    "        no_rain = nCr(rain_intervals, 0)\n",
    "        \n",
    "        # return the inverse of the chance of staying dry\n",
    "        return 1 - ((dry * no_rain) / possible_outcomes)\n",
    "    \n",
    "    except:\n",
    "        return 1"
   ]
  },
  {
   "cell_type": "code",
   "execution_count": 19,
   "metadata": {},
   "outputs": [],
   "source": [
    "# calculate the chance of getting wet during my commute\n",
    "df_knmi['rain_chance'] = df_knmi['percipation_duration'].apply(lambda x: getting_wet(x))"
   ]
  },
  {
   "cell_type": "code",
   "execution_count": 20,
   "metadata": {},
   "outputs": [],
   "source": [
    "# return random boolean based on column rain_chance for getting wet or not\n",
    "df_knmi['got_wet'] = df_knmi['rain_chance'].apply(lambda x: bool(np.random.binomial(1, x)))"
   ]
  },
  {
   "cell_type": "code",
   "execution_count": 21,
   "metadata": {},
   "outputs": [
    {
     "name": "stdout",
     "output_type": "stream",
     "text": [
      "The percentage of commutes where I actually get wet is 10.3%\n"
     ]
    }
   ],
   "source": [
    "mean_wet_commutes = df_knmi['got_wet'].mean()\n",
    "\n",
    "print(f'The percentage of commutes where I actually get wet is {round(mean_wet_commutes * 100, 1)}%')"
   ]
  },
  {
   "cell_type": "code",
   "execution_count": 25,
   "metadata": {},
   "outputs": [
    {
     "data": {
      "text/plain": [
       "<matplotlib.legend.Legend at 0x245ae4e3348>"
      ]
     },
     "execution_count": 25,
     "metadata": {},
     "output_type": "execute_result"
    },
    {
     "data": {
      "image/png": "[encoded data removed]",
      "text/plain": [
       "<Figure size 864x288 with 1 Axes>"
      ]
     },
     "metadata": {
      "needs_background": "light"
     },
     "output_type": "display_data"
    }
   ],
   "source": [
    "# plot data per month, year\n",
    "ax = df_knmi.groupby([df_knmi['date'].dt.year, df_knmi['date'].dt.month])['got_wet'].mean().plot(kind = 'bar', figsize = (12,4), label = 'Percentage got wet', title = 'Percentage got wet per year, month')\n",
    "\n",
    "# plot axhline with average of wet commutes\n",
    "ax.axhline(mean_wet_commutes, c = 'tab:orange', linestyle = ':', label = 'Avg. of commutes with rain')\n",
    "\n",
    "# show labels\n",
    "ax.legend()"
   ]
  },
  {
   "cell_type": "code",
   "execution_count": 23,
   "metadata": {},
   "outputs": [
    {
     "data": {
      "text/plain": [
       "<matplotlib.legend.Legend at 0x245ae27d988>"
      ]
     },
     "execution_count": 23,
     "metadata": {},
     "output_type": "execute_result"
    },
    {
     "data": {
      "image/png": "[encoded data removed]",
      "text/plain": [
       "<Figure size 864x288 with 1 Axes>"
      ]
     },
     "metadata": {
      "needs_background": "light"
     },
     "output_type": "display_data"
    }
   ],
   "source": [
    "# plot data per quarter\n",
    "ax = df_knmi.groupby('quarter')['got_wet'].mean().plot(kind = 'bar', figsize = (12,4), label = 'Percentage got wet', title = 'Percentage got wet per quater')\n",
    "\n",
    "# plot axhline with average of wet commutes\n",
    "ax.axhline(mean_wet_commutes, c = 'tab:orange', linestyle = ':', label = 'Avg. of commutes with rain')\n",
    "\n",
    "# show labels\n",
    "ax.legend()"
   ]
  },
  {
   "cell_type": "markdown",
   "metadata": {},
   "source": [
    "### Conclusion\n",
    "\n",
    "On my daily commute I have a slight chance of getting wet, around 10-11%. There is a large difference between months and quarters. Especially quarters 2 and 3 (from April to September) have significantly lower chances of rainfall during my commute. \n",
    "\n",
    "In quarter 2 (April - June) my chance of getting wet during my commute is less than 5%, which means that on average I only get wet once per month in this quarter."
   ]
  }
 ],
 "metadata": {
  "kernelspec": {
   "display_name": "Python 3",
   "language": "python",
   "name": "python3"
  },
  "language_info": {
   "codemirror_mode": {
    "name": "ipython",
    "version": 3
   },
   "file_extension": ".py",
   "mimetype": "text/x-python",
   "name": "python",
   "nbconvert_exporter": "python",
   "pygments_lexer": "ipython3",
   "version": "3.7.4"
  }
 },
 "nbformat": 4,
 "nbformat_minor": 2
}
